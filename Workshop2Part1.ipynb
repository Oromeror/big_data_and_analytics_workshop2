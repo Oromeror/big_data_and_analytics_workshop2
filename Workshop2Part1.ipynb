{
 "cells": [
  {
   "cell_type": "markdown",
   "metadata": {},
   "source": [
    "# PART 1"
   ]
  },
  {
   "cell_type": "markdown",
   "metadata": {},
   "source": [
    "### Importing required libraries for part 1"
   ]
  },
  {
   "cell_type": "code",
   "execution_count": null,
   "metadata": {},
   "outputs": [],
   "source": [
    "import time\n",
    "from bs4 import BeautifulSoup\n",
    "from selenium import webdriver\n",
    "from selenium.webdriver.chrome.service import Service\n",
    "from webdriver_manager.chrome import ChromeDriverManager\n",
    "from selenium.webdriver.common.by import By\n",
    "from pymongo import MongoClient"
   ]
  },
  {
   "cell_type": "markdown",
   "metadata": {},
   "source": [
    "### Creating a connection to MongoDB"
   ]
  },
  {
   "cell_type": "code",
   "execution_count": null,
   "metadata": {},
   "outputs": [],
   "source": [
    "client = MongoClient('localhost', 27017)\n",
    "db = client['news']\n",
    "collection = db['elespectador']"
   ]
  },
  {
   "cell_type": "markdown",
   "metadata": {},
   "source": [
    "### Base URL of the site to be analyzed"
   ]
  },
  {
   "cell_type": "code",
   "execution_count": null,
   "metadata": {},
   "outputs": [],
   "source": [
    "SITE_URL = 'https://www.elespectador.com'"
   ]
  },
  {
   "cell_type": "markdown",
   "metadata": {},
   "source": [
    "### Creating a new chrome window"
   ]
  },
  {
   "cell_type": "code",
   "execution_count": null,
   "metadata": {},
   "outputs": [],
   "source": [
    "serv = Service(ChromeDriverManager().install())\n",
    "browser = webdriver.Chrome(service = serv)\n",
    "browser.get(SITE_URL)"
   ]
  },
  {
   "cell_type": "markdown",
   "metadata": {},
   "source": [
    "### Fuction to do the request and rendering the browser"
   ]
  },
  {
   "cell_type": "code",
   "execution_count": null,
   "metadata": {},
   "outputs": [],
   "source": [
    "def make_request(browser, relative_path, clic=False, login=False, scroll=False):\n",
    "    browser.get(SITE_URL + relative_path)\n",
    "    \n",
    "    if login:\n",
    "        iframes = browser.find_elements(By.TAG_NAME, 'iframe')\n",
    "        # the html for the login form is in the position 2 of the iframes list of the page, so\n",
    "        # to be able of referencing login fields form it is necessary to switch to the iframe appropriate\n",
    "        browser.switch_to.frame(iframes[1])\n",
    "\n",
    "        username = browser.find_element(By.ID,'email')\n",
    "        username.send_keys('oromeror@unbosque.edu.co')\n",
    "\n",
    "        password = browser.find_element(By.ID,'password')\n",
    "        password.send_keys('YeABPLxJVYct3FR')\n",
    "\n",
    "        browser.find_element(By.CLASS_NAME, 'btn-login').click()\n",
    "        \n",
    "        return 'logged'\n",
    "    \n",
    "    if clic:\n",
    "        # this is to open the \n",
    "        browser.find_element(By.CLASS_NAME, 'Header-BurgerMenu').click()\n",
    "        time.sleep(2)\n",
    "    \n",
    "    if scroll:\n",
    "        # Simulating vertical scrolling for handling lazy load\n",
    "        check_height = browser.execute_script('return document.body.scrollHeight;')\n",
    "        while True:\n",
    "            browser.execute_script('window.scrollTo(0, document.body.scrollHeight);')\n",
    "            time.sleep(2)\n",
    "            height = browser.execute_script('return document.body.scrollHeight;')\n",
    "            if height == check_height: \n",
    "                break \n",
    "            check_height = height\n",
    "    \n",
    "    # Getting HTML content and passing it to BeautifulSoup for scraping analysis\n",
    "    return BeautifulSoup(browser.page_source, 'html.parser')"
   ]
  },
  {
   "cell_type": "markdown",
   "metadata": {},
   "source": [
    "### login on the page to avoid being blocked by El Espectador during the web-scraping process"
   ]
  },
  {
   "cell_type": "code",
   "execution_count": null,
   "metadata": {},
   "outputs": [],
   "source": [
    "make_request(browser, '/login/?utm_source=interno&utm_medium=boton&utm_campaign=login&utm_content=boton_login_header', False, True)"
   ]
  },
  {
   "cell_type": "markdown",
   "metadata": {},
   "source": [
    "### Getting HTML content for news categories container"
   ]
  },
  {
   "cell_type": "code",
   "execution_count": null,
   "metadata": {},
   "outputs": [],
   "source": [
    "soup = make_request(browser, '/', True, False, True)"
   ]
  },
  {
   "cell_type": "markdown",
   "metadata": {},
   "source": [
    "### Finding the section where menu items are contained "
   ]
  },
  {
   "cell_type": "code",
   "execution_count": null,
   "metadata": {},
   "outputs": [],
   "source": [
    "menu = soup.find(class_ = 'Header-BurgerMenuField')"
   ]
  },
  {
   "cell_type": "markdown",
   "metadata": {},
   "source": [
    "### Getting items from the menu categories"
   ]
  },
  {
   "cell_type": "code",
   "execution_count": null,
   "metadata": {},
   "outputs": [],
   "source": [
    "items = menu.find_all(class_ ='Menu-ItemContent')\n",
    "print(len(items))"
   ]
  },
  {
   "cell_type": "markdown",
   "metadata": {},
   "source": [
    "### Saving the title and relative path of each categorie in a list"
   ]
  },
  {
   "cell_type": "code",
   "execution_count": null,
   "metadata": {},
   "outputs": [],
   "source": [
    "categories = []\n",
    "for categorie in items:\n",
    "    try:\n",
    "        categories.append({\n",
    "            'title': categorie.find(class_ = 'Menu-ItemTitle').get_text(),\n",
    "            'relative_path': categorie.find(class_ = 'Menu-ItemLink')['href']\n",
    "        })\n",
    "    except:\n",
    "        print('Los siguientes elementos no tienen href: ', categorie.find(class_ = 'Menu-ItemTitle').get_text())"
   ]
  },
  {
   "cell_type": "markdown",
   "metadata": {},
   "source": [
    "### Categories values"
   ]
  },
  {
   "cell_type": "code",
   "execution_count": null,
   "metadata": {},
   "outputs": [],
   "source": [
    "categories"
   ]
  },
  {
   "cell_type": "markdown",
   "metadata": {},
   "source": [
    "### Selecting 5 categories"
   ]
  },
  {
   "cell_type": "code",
   "execution_count": null,
   "metadata": {},
   "outputs": [],
   "source": [
    "indexes = [2,7,4,5,6]\n",
    "five_categories = [categories[i] for i in indexes]\n",
    "five_categories"
   ]
  },
  {
   "cell_type": "code",
   "execution_count": null,
   "metadata": {},
   "outputs": [],
   "source": [
    "# Building a list with title and relative path of the news founded\n",
    "news = []"
   ]
  },
  {
   "cell_type": "markdown",
   "metadata": {},
   "source": [
    "### Getting HTML content for news listing pages in each category"
   ]
  },
  {
   "cell_type": "code",
   "execution_count": null,
   "metadata": {},
   "outputs": [],
   "source": [
    "for fc in five_categories:\n",
    "    # Getting HTML content for news page\n",
    "    soup = make_request(browser, '/archivo' + fc['relative_path'])\n",
    "    time.sleep(3)\n",
    "    \n",
    "    # Finding the section where news are contained \n",
    "    layout = soup.find(class_ = 'Layout-flexAds')\n",
    "    \n",
    "    # Getting blocks from layout\n",
    "    blocks = layout.find('section').find_all(recursive = False)\n",
    "    print('number of blocks: ', len(blocks)) # 3 blocks founded, 2 for news and 1 for pagintion\n",
    "    \n",
    "    # Finding and concatenating news cards\n",
    "    cards = blocks[0].find_all(class_ = 'Card') + blocks[1].find_all(class_ = 'Card')\n",
    "    print('number of cards: ',len(cards))\n",
    "    \n",
    "    for card in cards:\n",
    "        news.append({\n",
    "            'title': card.find('h2', class_ = 'Card-Title').find('a').get_text(),\n",
    "            'relative_path': card.find('h2', class_ = 'Card-Title').find('a')['href']\n",
    "        })\n",
    "        \n",
    "    for n in news: \n",
    "        # Getting HTML content for news page\n",
    "        soup = make_request(browser, n['relative_path'])\n",
    "\n",
    "        # Extracting news metadata\n",
    "\n",
    "        n['category'] = fc['title']\n",
    "\n",
    "        if soup.find(class_ = 'ArticleHeader-Date').get_text():\n",
    "            n['datetime'] = soup.find(class_ = 'ArticleHeader-Date').get_text()\n",
    "        else: \n",
    "            n['datetime'] = 'Sin Fecha de publicación'\n",
    "\n",
    "        # Extracting and concatenating news full text\n",
    "        paragraphs = soup.find_all(class_ = 'font--secondary')\n",
    "        n['full_text'] = ' '.join([p.get_text() for p in paragraphs])"
   ]
  },
  {
   "cell_type": "code",
   "execution_count": null,
   "metadata": {},
   "outputs": [],
   "source": [
    "news"
   ]
  },
  {
   "cell_type": "markdown",
   "metadata": {},
   "source": [
    "### News obtained"
   ]
  },
  {
   "cell_type": "code",
   "execution_count": null,
   "metadata": {},
   "outputs": [],
   "source": [
    "news"
   ]
  },
  {
   "cell_type": "markdown",
   "metadata": {},
   "source": [
    "### Storing extracted information for further analysis"
   ]
  },
  {
   "cell_type": "code",
   "execution_count": null,
   "metadata": {},
   "outputs": [],
   "source": [
    "collection.insert_many(news)"
   ]
  },
  {
   "cell_type": "code",
   "execution_count": null,
   "metadata": {},
   "outputs": [],
   "source": []
  }
 ],
 "metadata": {
  "kernelspec": {
   "display_name": "Python 3",
   "language": "python",
   "name": "python3"
  },
  "language_info": {
   "codemirror_mode": {
    "name": "ipython",
    "version": 3
   },
   "file_extension": ".py",
   "mimetype": "text/x-python",
   "name": "python",
   "nbconvert_exporter": "python",
   "pygments_lexer": "ipython3",
   "version": "3.8.8"
  }
 },
 "nbformat": 4,
 "nbformat_minor": 4
}
